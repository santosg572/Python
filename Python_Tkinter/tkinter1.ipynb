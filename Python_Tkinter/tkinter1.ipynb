{
 "cells": [
  {
   "cell_type": "code",
   "execution_count": 1,
   "id": "4fc92e60-5509-443f-a0af-784abad5b52e",
   "metadata": {},
   "outputs": [],
   "source": [
    "import tkinter\n",
    "window = tkinter.Tk()\n",
    "# to rename the title of the window\n",
    "window.title(\"GUI\")\n",
    "\n",
    "window.mainloop()"
   ]
  },
  {
   "cell_type": "code",
   "execution_count": 15,
   "id": "7a7892eb-9965-420a-a578-ff5f5801d7ab",
   "metadata": {},
   "outputs": [
    {
     "name": "stdout",
     "output_type": "stream",
     "text": [
      "-------------- hola ---------------\n",
      "-------------- hola ---------------\n"
     ]
    }
   ],
   "source": [
    "import tkinter\n",
    "window = tkinter.Tk()\n",
    "\n",
    "def f1():\n",
    "    print('-------------- hola ---------------')\n",
    "    \n",
    "# to rename the title of the window\n",
    "window.title(\"GUI\")\n",
    "b1 = tkinter.Button(window,text=\"Hola buenos días\")\n",
    "b1.pack()\n",
    "b2 = tkinter.Button(window,text=\"Como estas\", command=f1)\n",
    "b2.pack()\n",
    "e1 = tkinter.Entry()\n",
    "e1.pack()\n",
    "window.mainloop()"
   ]
  },
  {
   "cell_type": "code",
   "execution_count": 15,
   "id": "948c6d35-c9c5-4e42-b718-c6a7365fb0cd",
   "metadata": {},
   "outputs": [
    {
     "name": "stdout",
     "output_type": "stream",
     "text": [
      "-------------- hola 555 ---------------\n",
      "33.0\n",
      "91.4\n",
      "-------------- hola 555 ---------------\n",
      "0.0\n",
      "32.0\n"
     ]
    }
   ],
   "source": [
    "from tkinter import *\n",
    "window = tkinter.Tk()\n",
    "\n",
    "def f1():\n",
    "    print('-------------- hola 555 ---------------')\n",
    "    grados = datos_cel.get()\n",
    "    grados = float(grados)\n",
    "    print(grados)\n",
    "    far = 9*grados/5 + 32\n",
    "    print(far)\n",
    "    dd =str(far)\n",
    "    datos_fah.config(text = dd)\n",
    "\n",
    "    \n",
    "# to rename the title of the window\n",
    "\n",
    "window.title(\"Convierte Grados Celsius a Grados Fahrenheit \")\n",
    "cel = tkinter.Button(window,text=\"Introduce Celsius\")\n",
    "cel.pack()\n",
    "datos_cel = tkinter.Entry()\n",
    "datos_cel.pack()\n",
    "\n",
    "con = tkinter.Button(window,text=\"CONVIERTE\", command=f1)\n",
    "con.pack()\n",
    "\n",
    "fah = tkinter.Button(window, text=\"Grados Fahrenheit\")\n",
    "fah.pack()\n",
    "\n",
    "datos_fah = tkinter.Label(window, text= ' ')\n",
    "datos_fah.pack()\n",
    "window.mainloop()"
   ]
  },
  {
   "cell_type": "code",
   "execution_count": 32,
   "id": "5c7e5b9d-6d3a-4a3c-a56f-c26a66a62c24",
   "metadata": {},
   "outputs": [],
   "source": [
    "from tkinter import *\n",
    "window = tkinter.Tk()\n",
    "\n",
    "window.geometry(\"312x324\")\n",
    "window.title(\"Calcualtor\")\n",
    "\n",
    "def f1():\n",
    "    print('-------------- hola 555 ---------------')\n",
    "    grados = datos_cel.get()\n",
    "    grados = float(grados)\n",
    "    print(grados)\n",
    "    far = 9*grados/5 + 32\n",
    "    print(far)\n",
    "    dd =str(far)\n",
    "    datos_fah.config(text = dd)\n",
    "\n",
    "    \n",
    "# to rename the title of the window\n",
    "\n",
    "window.title(\"Convierte Grados Celsius a Grados Fahrenheit \")\n",
    "b1 = tkinter.Button(window,text=\"1\")\n",
    "\n",
    "#b1.pack()\n",
    "b2 = tkinter.Button(window,text=\"2\")\n",
    "b1.grid(row = 0, column = 0, columnspan = 3, padx = 1, pady = 1)\n",
    "b2.grid(row = 0, column = 1, columnspan = 3, padx = 1, pady = 1)\n",
    "#b2.pack()\n",
    "#datos_cel = tkinter.Entry()\n",
    "#datos_cel.pack()\n",
    "\n",
    "#con = tkinter.Button(window,text=\"CONVIERTE\", command=f1)\n",
    "#con.pack()\n",
    "\n",
    "#fah = tkinter.Button(window, text=\"Grados Fahrenheit\")\n",
    "#fah.pack()\n",
    "\n",
    "#datos_fah = tkinter.Label(window, text= ' ')\n",
    "#datos_fah.pack()\n",
    "window.mainloop()"
   ]
  },
  {
   "cell_type": "code",
   "execution_count": null,
   "id": "50005897-8c82-4d29-bd01-9d8753b015a0",
   "metadata": {},
   "outputs": [],
   "source": []
  },
  {
   "cell_type": "code",
   "execution_count": null,
   "id": "aaa877a7-3aad-45c6-b843-dd68dbc14eac",
   "metadata": {},
   "outputs": [],
   "source": []
  },
  {
   "cell_type": "code",
   "execution_count": null,
   "id": "797fa341-1596-4d95-99fc-41f94c351c9d",
   "metadata": {},
   "outputs": [],
   "source": []
  }
 ],
 "metadata": {
  "kernelspec": {
   "display_name": "Python 3 (ipykernel)",
   "language": "python",
   "name": "python3"
  },
  "language_info": {
   "codemirror_mode": {
    "name": "ipython",
    "version": 3
   },
   "file_extension": ".py",
   "mimetype": "text/x-python",
   "name": "python",
   "nbconvert_exporter": "python",
   "pygments_lexer": "ipython3",
   "version": "3.9.16"
  }
 },
 "nbformat": 4,
 "nbformat_minor": 5
}
