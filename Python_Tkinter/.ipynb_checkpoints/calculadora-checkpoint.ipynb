{
 "cells": [
  {
   "cell_type": "code",
   "execution_count": null,
   "id": "e5839f9c-1e2e-48b9-8f03-408a17e9bd9f",
   "metadata": {},
   "outputs": [
    {
     "name": "stdout",
     "output_type": "stream",
     "text": [
      "2.0\n",
      "+\n",
      "5.0\n",
      "=\n"
     ]
    }
   ],
   "source": [
    "import tkinter as tk\n",
    "\n",
    "def button_click(button_name):\n",
    "    if button_name in '0123456789':\n",
    "        x = float(button_name)\n",
    "        print(x)\n",
    "    else:\n",
    "        print(button_name)\n",
    "        \n",
    "root = tk.Tk()\n",
    "root.title(\"Calculadora\")\n",
    "\n",
    "b1 = tk.Button(root, text=\"1\", command=lambda: button_click(\"1\"))\n",
    "b2 = tk.Button(root, text=\"2\", command=lambda: button_click(\"2\"))\n",
    "b3 = tk.Button(root, text=\"3\", command=lambda: button_click(\"3\"))\n",
    "b4 = tk.Button(root, text=\"4\", command=lambda: button_click(\"4\"))\n",
    "b5 = tk.Button(root, text=\"5\", command=lambda: button_click(\"5\"))\n",
    "b6 = tk.Button(root, text=\"6\", command=lambda: button_click(\"6\"))\n",
    "b7 = tk.Button(root, text=\"7\", command=lambda: button_click(\"7\"))\n",
    "b8 = tk.Button(root, text=\"8\", command=lambda: button_click(\"8\"))\n",
    "b9 = tk.Button(root, text=\"9\", command=lambda: button_click(\"9\"))\n",
    "b0 = tk.Button(root, text=\"0\", command=lambda: button_click(\"0\"))\n",
    "mas = tk.Button(root, text=\"+\", command=lambda: button_click(\"+\"))\n",
    "menos = tk.Button(root, text=\"-\", command=lambda: button_click(\"-\"))\n",
    "igual = tk.Button(root, text=\"=\", command=lambda: button_click(\"=\"))\n",
    "\n",
    "\n",
    "b1.grid(row=0, column=0, padx=5, pady=5) \n",
    "b2.grid(row=0, column=1, padx=5, pady=5)\n",
    "b3.grid(row=0, column=2, padx=5, pady=5)\n",
    "b4.grid(row=1, column=0, padx=5, pady=5)\n",
    "b5.grid(row=1, column=1, padx=5, pady=5)\n",
    "b6.grid(row=1, column=2, padx=5, pady=5)\n",
    "b7.grid(row=2, column=0, padx=5, pady=5)\n",
    "b8.grid(row=2, column=1, padx=5, pady=5)\n",
    "b9.grid(row=2, column=2, padx=5, pady=5)\n",
    "b0.grid(row=3, column=0, padx=5, pady=5)\n",
    "mas.grid(row=3, column=1, padx=5, pady=5)\n",
    "menos.grid(row=3, column=2, padx=5, pady=5)\n",
    "igual.grid(row=4, column=0, padx=5, pady=5)\n",
    "# Start the Tkinter event loop\n",
    "root.mainloop()"
   ]
  },
  {
   "cell_type": "code",
   "execution_count": null,
   "id": "c3aa75f0-dccb-4b6b-90f7-d7330608e213",
   "metadata": {},
   "outputs": [],
   "source": []
  },
  {
   "cell_type": "code",
   "execution_count": null,
   "id": "94df8087-62eb-4d85-a6cd-ecd3b21c4953",
   "metadata": {},
   "outputs": [],
   "source": []
  },
  {
   "cell_type": "code",
   "execution_count": null,
   "id": "94d9c194-3ae8-4238-b007-31de28f2ce9b",
   "metadata": {},
   "outputs": [],
   "source": []
  }
 ],
 "metadata": {
  "kernelspec": {
   "display_name": "Python 3 (ipykernel)",
   "language": "python",
   "name": "python3"
  },
  "language_info": {
   "codemirror_mode": {
    "name": "ipython",
    "version": 3
   },
   "file_extension": ".py",
   "mimetype": "text/x-python",
   "name": "python",
   "nbconvert_exporter": "python",
   "pygments_lexer": "ipython3",
   "version": "3.9.16"
  }
 },
 "nbformat": 4,
 "nbformat_minor": 5
}
